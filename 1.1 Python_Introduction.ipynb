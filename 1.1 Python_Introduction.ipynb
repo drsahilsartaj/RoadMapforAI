{
  "nbformat": 4,
  "nbformat_minor": 0,
  "metadata": {
    "colab": {
      "provenance": [],
      "toc_visible": true,
      "authorship_tag": "ABX9TyOs35AlwDL0gunQubkqPwpX",
      "include_colab_link": true
    },
    "kernelspec": {
      "name": "python3",
      "display_name": "Python 3"
    },
    "language_info": {
      "name": "python"
    }
  },
  "cells": [
    {
      "cell_type": "markdown",
      "metadata": {
        "id": "view-in-github",
        "colab_type": "text"
      },
      "source": [
        "<a href=\"https://colab.research.google.com/github/drsahilsartaj/RoadMapforAI/blob/main/1.1%20Python_Introduction.ipynb\" target=\"_parent\"><img src=\"https://colab.research.google.com/assets/colab-badge.svg\" alt=\"Open In Colab\"/></a>"
      ]
    },
    {
      "cell_type": "code",
      "execution_count": null,
      "metadata": {
        "colab": {
          "base_uri": "https://localhost:8080/"
        },
        "id": "I54vlDkMtKoH",
        "outputId": "2feb8b78-c896-454f-c436-8bba634c1ab3"
      },
      "outputs": [
        {
          "output_type": "stream",
          "name": "stdout",
          "text": [
            "['False', 'None', 'True', 'and', 'as', 'assert', 'async', 'await', 'break', 'class', 'continue', 'def', 'del', 'elif', 'else', 'except', 'finally', 'for', 'from', 'global', 'if', 'import', 'in', 'is', 'lambda', 'nonlocal', 'not', 'or', 'pass', 'raise', 'return', 'try', 'while', 'with', 'yield']\n",
            "Total number of keyword in python 3.7 is 35\n"
          ]
        }
      ],
      "source": [
        "# Get all keywords in python 3.7\n",
        "\n",
        "import keyword\n",
        "print(keyword.kwlist)\n",
        "print(f\"Total number of keyword in python 3.7 is {len(keyword.kwlist)}\")"
      ]
    },
    {
      "cell_type": "markdown",
      "source": [
        "### Python Multiline statement"
      ],
      "metadata": {
        "id": "O_3n5E6eEEze"
      }
    },
    {
      "cell_type": "code",
      "source": [
        "a = 1 + 2 + 3 + \\\n",
        "    4 + 5 + 6 + \\\n",
        "    7 + 8"
      ],
      "metadata": {
        "id": "OjJ9Y8-ytlsr"
      },
      "execution_count": null,
      "outputs": []
    },
    {
      "cell_type": "code",
      "source": [
        "print(a)"
      ],
      "metadata": {
        "colab": {
          "base_uri": "https://localhost:8080/"
        },
        "id": "5OCRtflBFS2p",
        "outputId": "9870e68a-ae0d-4d58-d7e1-5d2bbc4c7f2b"
      },
      "execution_count": null,
      "outputs": [
        {
          "output_type": "stream",
          "name": "stdout",
          "text": [
            "36\n"
          ]
        }
      ]
    },
    {
      "cell_type": "code",
      "source": [
        "#another way is\n",
        "a = (1 + 2 + 3 +\n",
        "    4 + 5 + 6 +\n",
        "    7 + 8)\n",
        "print(a)"
      ],
      "metadata": {
        "colab": {
          "base_uri": "https://localhost:8080/"
        },
        "id": "TefDDeJ1FUqo",
        "outputId": "856147eb-25e3-4a9d-bdba-9dd1e5b683c4"
      },
      "execution_count": null,
      "outputs": [
        {
          "output_type": "stream",
          "name": "stdout",
          "text": [
            "36\n"
          ]
        }
      ]
    },
    {
      "cell_type": "code",
      "source": [
        "a = 10; b = 20; c = 30   #put multiple statements in a single line using ;"
      ],
      "metadata": {
        "id": "zpS2_lYmFc1T"
      },
      "execution_count": null,
      "outputs": []
    },
    {
      "cell_type": "code",
      "source": [
        "# Multiple Assignments\n",
        "\n",
        "a, b, c = 10, 5.5, \"ML\""
      ],
      "metadata": {
        "id": "xEKPdKgJIXvo"
      },
      "execution_count": null,
      "outputs": []
    },
    {
      "cell_type": "code",
      "source": [
        "a = b = c = \"AI\" #assign the same value to multiple variables at once"
      ],
      "metadata": {
        "id": "aWHK3nnOIdWE"
      },
      "execution_count": null,
      "outputs": []
    },
    {
      "cell_type": "markdown",
      "source": [
        "## Number"
      ],
      "metadata": {
        "id": "mc5XFhyaT6RO"
      }
    },
    {
      "cell_type": "code",
      "source": [
        "a = 5                               #data type is implicitly set to integer\n",
        "print(a, \" is of type\", type(a))"
      ],
      "metadata": {
        "colab": {
          "base_uri": "https://localhost:8080/"
        },
        "id": "F7OZDbdaIfQf",
        "outputId": "3a4720e9-fb2e-4782-dc1e-bcb5b441fcd4"
      },
      "execution_count": null,
      "outputs": [
        {
          "output_type": "stream",
          "name": "stdout",
          "text": [
            "5  is of type <class 'int'>\n"
          ]
        }
      ]
    },
    {
      "cell_type": "code",
      "source": [
        "a = 2.5                            #data type is changed to float\n",
        "print(a, \" is of type\", type(a))"
      ],
      "metadata": {
        "colab": {
          "base_uri": "https://localhost:8080/"
        },
        "id": "22pXgDbXUAah",
        "outputId": "9ddcd1da-f5eb-42be-da77-41c32e4f4b14"
      },
      "execution_count": null,
      "outputs": [
        {
          "output_type": "stream",
          "name": "stdout",
          "text": [
            "2.5  is of type <class 'float'>\n"
          ]
        }
      ]
    },
    {
      "cell_type": "code",
      "source": [
        "a = 1 + 2j                          #data type is changed to complex number\n",
        "print(a, \" is complex number?\")\n",
        "print(isinstance(a, int))\n",
        "print(isinstance(1+2j, complex))"
      ],
      "metadata": {
        "colab": {
          "base_uri": "https://localhost:8080/"
        },
        "id": "8GfDHTpQUCN7",
        "outputId": "f63ea224-97bc-4f84-d14a-84142caa2a60"
      },
      "execution_count": null,
      "outputs": [
        {
          "output_type": "stream",
          "name": "stdout",
          "text": [
            "(1+2j)  is complex number?\n",
            "False\n",
            "True\n"
          ]
        }
      ]
    },
    {
      "cell_type": "code",
      "source": [
        "a=\"AAA\"\n",
        "b=\"AAA\"\n",
        "print(a is not b)"
      ],
      "metadata": {
        "id": "iGRmcgyxUD2g",
        "colab": {
          "base_uri": "https://localhost:8080/"
        },
        "outputId": "f0221d3e-4529-4454-9bca-be0a67719a3f"
      },
      "execution_count": null,
      "outputs": [
        {
          "output_type": "stream",
          "name": "stdout",
          "text": [
            "False\n"
          ]
        }
      ]
    },
    {
      "cell_type": "markdown",
      "source": [
        "# **Python Input and Output**"
      ],
      "metadata": {
        "id": "mMtqtAtDHVle"
      }
    },
    {
      "cell_type": "markdown",
      "source": [
        "## **Python Output**"
      ],
      "metadata": {
        "id": "LmdwZLydH2Le"
      }
    },
    {
      "cell_type": "code",
      "source": [
        "print(\"Hello Coder\")"
      ],
      "metadata": {
        "colab": {
          "base_uri": "https://localhost:8080/"
        },
        "id": "HmUPA6rIE-9u",
        "outputId": "dceaee09-a0aa-4c25-97bc-d3037dc80fe2"
      },
      "execution_count": null,
      "outputs": [
        {
          "output_type": "stream",
          "name": "stdout",
          "text": [
            "Hello Coder\n"
          ]
        }
      ]
    },
    {
      "cell_type": "code",
      "source": [
        "a = 10\n",
        "print(\"The value of a is:\", a) #python 3\n",
        "print(\"The value of a is: \" + str(a)) #we concatenate two str using +\n",
        "print(f\"The value of a is: {a}\") #using f\n",
        "print(\"The value of a is: {}\".format(a)) #output formatting"
      ],
      "metadata": {
        "colab": {
          "base_uri": "https://localhost:8080/"
        },
        "id": "hJlDDLB3IBXU",
        "outputId": "6157ecd2-5ac7-4125-aad8-9d4693987fdb"
      },
      "execution_count": null,
      "outputs": [
        {
          "output_type": "stream",
          "name": "stdout",
          "text": [
            "The value of a is: 10\n",
            "The value of a is: 10\n",
            "The value of a is: 10\n",
            "The value of a is: 10\n"
          ]
        }
      ]
    },
    {
      "cell_type": "markdown",
      "source": [
        "### **Output Formatting**"
      ],
      "metadata": {
        "id": "avjEXNb_I5k7"
      }
    },
    {
      "cell_type": "code",
      "source": [
        "a = 10; b = 20\n",
        "print(\"The value of a is {} and b is {}\".format(a, b)) #default output formatting\n",
        "\n",
        "print(\"The value of b is {1} and a is {0}\".format(a, b)) #specify position\n",
        "\n",
        "print(\"Hello {name}, {greetings}\".format(name=\"Samir\", greetings=\"Good Morning!\")) #use keyword arguments"
      ],
      "metadata": {
        "colab": {
          "base_uri": "https://localhost:8080/"
        },
        "id": "ejNfHt2TIs1A",
        "outputId": "01329af5-8cb9-4455-bdfd-4c8c379f39e6"
      },
      "execution_count": null,
      "outputs": [
        {
          "output_type": "stream",
          "name": "stdout",
          "text": [
            "The value of a is 10 and b is 20\n",
            "The value of b is 20 and a is 10\n",
            "Hello Samir, Good Morning!\n"
          ]
        }
      ]
    },
    {
      "cell_type": "code",
      "source": [
        "print('greetings from iNeuron')\n",
        "\n",
        "print(\"Good Evening\")\n",
        "\n",
        "print(\"\"\"Good\n",
        "Evening\"\"\")\n",
        "\n",
        "print(\"\"\"Good\n",
        "Evening\n",
        "from\n",
        "India\"\"\")"
      ],
      "metadata": {
        "id": "PQZ-mKtjGxtV",
        "outputId": "0aae6705-ac35-4044-dce9-6465857cfce5",
        "colab": {
          "base_uri": "https://localhost:8080/"
        }
      },
      "execution_count": null,
      "outputs": [
        {
          "output_type": "stream",
          "name": "stdout",
          "text": [
            "greetings from iNeuron\n",
            "Good Evening\n",
            "Good \n",
            "Evening\n",
            "Good \n",
            "Evening\n",
            "from\n",
            "India\n"
          ]
        }
      ]
    },
    {
      "cell_type": "markdown",
      "source": [
        "## **Python Input**\n",
        "\n",
        "use **input()** function"
      ],
      "metadata": {
        "id": "WCKN0iCyKItT"
      }
    },
    {
      "cell_type": "code",
      "source": [
        "number = input(\"Enter the value \")\n",
        "print(number)"
      ],
      "metadata": {
        "colab": {
          "base_uri": "https://localhost:8080/"
        },
        "id": "H8ZZXrdAJOwJ",
        "outputId": "38eb4bcd-79ee-4ac5-e486-6a55590d7a4f"
      },
      "execution_count": null,
      "outputs": [
        {
          "output_type": "stream",
          "name": "stdout",
          "text": [
            "Enter the value 2\n",
            "2\n"
          ]
        }
      ]
    },
    {
      "cell_type": "code",
      "source": [],
      "metadata": {
        "id": "xcDXPl6IK3G2"
      },
      "execution_count": null,
      "outputs": []
    },
    {
      "cell_type": "markdown",
      "source": [
        "# Comments"
      ],
      "metadata": {
        "id": "vsTp5NutHJIl"
      }
    },
    {
      "cell_type": "code",
      "source": [
        "# say hello to the students\n",
        "print(\"Hi Students\")"
      ],
      "metadata": {
        "colab": {
          "base_uri": "https://localhost:8080/"
        },
        "id": "hf18BeRmHO2o",
        "outputId": "fab86371-1c77-4b3a-9766-b4d09a360059"
      },
      "execution_count": null,
      "outputs": [
        {
          "output_type": "stream",
          "name": "stdout",
          "text": [
            "Hi Students\n"
          ]
        }
      ]
    },
    {
      "cell_type": "markdown",
      "source": [
        "# Multi line comments"
      ],
      "metadata": {
        "id": "o18UTSJZHUX1"
      }
    },
    {
      "cell_type": "code",
      "source": [
        "\"\"\"\n",
        "Say Hi\n",
        "To the students\n",
        "\"\"\"\n",
        "print('Hi Students')"
      ],
      "metadata": {
        "id": "TdSKtJZHHP4V"
      },
      "execution_count": null,
      "outputs": []
    },
    {
      "cell_type": "markdown",
      "source": [
        "# Variables in python\n",
        "\n",
        "1. Variable names should start with alphabets\n",
        "\n",
        "2. Variable names should not contain any special characters like ^ % $ ! @ # ^ & * ( )\n",
        "\n",
        "3. Variable names can contain numbers but you can't start with numbers\n",
        "\n",
        "4. Its not a strict rule that you should not use variable names with a Captial letter. But its recommended to use small letters for the variables"
      ],
      "metadata": {
        "id": "5MjRzy82IDH4"
      }
    },
    {
      "cell_type": "code",
      "source": [
        "ten = 10\n",
        "ten_number = 10\n",
        "tenNumber = 10"
      ],
      "metadata": {
        "id": "tspd-j0RIETF"
      },
      "execution_count": null,
      "outputs": []
    },
    {
      "cell_type": "code",
      "source": [
        "ten* = 10 # syntax error\n",
        "\n",
        "ten%number = 10 #syntax error"
      ],
      "metadata": {
        "id": "DP8P8OWAIYHE"
      },
      "execution_count": null,
      "outputs": []
    },
    {
      "cell_type": "code",
      "source": [
        "ten10 = 10 #correct\n",
        "\n",
        "10ten = 10 #syntax error"
      ],
      "metadata": {
        "id": "XXwFQIxeIrrN"
      },
      "execution_count": null,
      "outputs": []
    },
    {
      "cell_type": "code",
      "source": [
        "# NOTE\n",
        "__num = 10 # hidden variable\n",
        "\n",
        "_ = 10 # dummy variable"
      ],
      "metadata": {
        "id": "bQsVyhosI4u8"
      },
      "execution_count": null,
      "outputs": []
    },
    {
      "cell_type": "markdown",
      "source": [
        "# **Operators**\n",
        "\n",
        "## **Operator Types**\n",
        "\n",
        "\n",
        "\n",
        "1.   Arithmetic operators [**+, -, \\*, /, %, //, \\****]\n",
        "2.   Comparision (Relational) operators [**>, <, ==, !=, >=, <=**]\n",
        "3.   Logical (Boolean) operators [**and, or, not**]\n",
        "4.   Bitwise operators [**&, |, ~, ^, >>, <<**]\n",
        "5.   Assignment operators [**=, +=, -=, \\*=, /=, //=, &=, |=, ^=, >>=, <<=, %=, **=**]\n",
        "6.   Special operators [**is, is not, in, not in**]\n",
        "\n"
      ],
      "metadata": {
        "id": "66p3zXbqLAb9"
      }
    },
    {
      "cell_type": "markdown",
      "source": [
        "## **Arithmetic operators**\n",
        "\n",
        "+, -, \\*, /, %, //, \\** are arithmetic operators\n",
        "\n",
        "\n",
        "|Operation|Meaning|\n",
        "|:-:|:-:|\n",
        "| **+** |addition|\n",
        "| **-** |subtraction|\n",
        "| **\\*** |multiplication|\n",
        "| **/** |true division|\n",
        "| **//** |integer division|\n",
        "| **%** |the modulo operator|"
      ],
      "metadata": {
        "id": "g7-ubpQAMphQ"
      }
    },
    {
      "cell_type": "code",
      "source": [
        "x, y, a, b = 10, 20, 21, 5\n",
        "print(x+y) #addition\n",
        "print(x-y) #subtraction\n",
        "print(x*y) #multiplication\n",
        "print(y/x) #division\n",
        "print(a%b) #modulo division\n",
        "print(a//x) #floor division\n",
        "print(x**b) #exponent like 10 to the power 5"
      ],
      "metadata": {
        "colab": {
          "base_uri": "https://localhost:8080/"
        },
        "id": "5PZcyBaoK_h1",
        "outputId": "c633c603-3a58-49bc-dfbf-c8f7af221420"
      },
      "execution_count": null,
      "outputs": [
        {
          "output_type": "stream",
          "name": "stdout",
          "text": [
            "30\n",
            "-10\n",
            "200\n",
            "2.0\n",
            "1\n",
            "2\n",
            "100000\n"
          ]
        }
      ]
    },
    {
      "cell_type": "markdown",
      "source": [
        "## **Comparision Operators**\n",
        "\n",
        "Used to **compare values** and it returns only **True or False** according to the condition\n",
        "\n",
        "\\>, <, ==, !=, >=, <= are comparision operators\n",
        "\n",
        "\n",
        "|Operation|Meaning|\n",
        "|:-:|:-:|\n",
        "| **>** |greater than|\n",
        "| **<** |less than|\n",
        "| **==** |equal equal|\n",
        "| **!=** |not equal|\n",
        "| **>=** |greater than equal|\n",
        "| **<=** |less than equal|"
      ],
      "metadata": {
        "id": "DfbuEr_LOK11"
      }
    },
    {
      "cell_type": "code",
      "source": [
        "a, b = 10, 20\n",
        "print(a==b) # check with different operators"
      ],
      "metadata": {
        "colab": {
          "base_uri": "https://localhost:8080/"
        },
        "id": "wOX0uCV9OAaE",
        "outputId": "b4401350-d190-4778-b471-2edd0a087ddd"
      },
      "execution_count": null,
      "outputs": [
        {
          "output_type": "stream",
          "name": "stdout",
          "text": [
            "False\n"
          ]
        }
      ]
    },
    {
      "cell_type": "markdown",
      "source": [
        "## **Logical Operators**\n",
        "\n",
        "Keywords | Meaning\n",
        "- | -\n",
        "not | unary negation\n",
        "and | conditional AND\n",
        "or | conditional OR"
      ],
      "metadata": {
        "id": "KDfv30kfPg5C"
      }
    },
    {
      "cell_type": "code",
      "source": [
        "a, b = True, False\n",
        "print(a and b) #check with or and not"
      ],
      "metadata": {
        "colab": {
          "base_uri": "https://localhost:8080/"
        },
        "id": "4f5GJ2eyPYLm",
        "outputId": "73639b57-ca9b-4131-cde4-a2c0708f402d"
      },
      "execution_count": null,
      "outputs": [
        {
          "output_type": "stream",
          "name": "stdout",
          "text": [
            "False\n"
          ]
        }
      ]
    },
    {
      "cell_type": "markdown",
      "source": [
        "## **Bitwise Operators**\n",
        "\n",
        "Bitwise operators act on operands as if they were **string** or **binary digits**. It operates bit by bit.\n",
        "\n",
        "&, |, ~, ^, >>, <<\n",
        "\n",
        "\n",
        "|Operation|Meaning|\n",
        "|:-:|:-:|\n",
        "| **&** |bitwise add|\n",
        "| **|** |bitwise or|\n",
        "| **~*** |bitwise not|\n",
        "| **^** |bitwise XOR|\n",
        "| **>>** |bitwise rightshift|\n",
        "| **<<** |bitwise leftshift|\n",
        "\n",
        "[Notice Notes]"
      ],
      "metadata": {
        "id": "IpxRS4CGQQT1"
      }
    },
    {
      "cell_type": "code",
      "source": [
        "a, b = 10, 4\n",
        "print(a & b) # Bitwise AND\n",
        "print(a | b) # Bitwise OR\n",
        "print(~a) # Bitwise NOT\n",
        "print(a ^ b) #Bitwise XOR\n",
        "print(a>>b) #Bitwise rightshift\n",
        "print(a<<b) #Bitwise leftshift"
      ],
      "metadata": {
        "colab": {
          "base_uri": "https://localhost:8080/"
        },
        "id": "yDDwqm3wP4Ms",
        "outputId": "272d40f1-7ff2-41bd-ccdf-f11b89695f20"
      },
      "execution_count": null,
      "outputs": [
        {
          "output_type": "stream",
          "name": "stdout",
          "text": [
            "0\n",
            "14\n",
            "-11\n",
            "14\n",
            "0\n",
            "160\n"
          ]
        }
      ]
    },
    {
      "cell_type": "markdown",
      "source": [
        "## **Assignment Operators**\n",
        "\n",
        "=, +=, -=, \\*=, /=, //=, &=, |=, ^=, >>=, <<=, %=, **="
      ],
      "metadata": {
        "id": "vFNhMu8qVutd"
      }
    },
    {
      "cell_type": "code",
      "source": [
        "a = 10\n",
        "a += 10 #check for other operators\n",
        "print(a)"
      ],
      "metadata": {
        "colab": {
          "base_uri": "https://localhost:8080/"
        },
        "id": "U1TxGSO9R8cI",
        "outputId": "2037c102-73d9-49d7-d8cf-6b1452290a73"
      },
      "execution_count": null,
      "outputs": [
        {
          "output_type": "stream",
          "name": "stdout",
          "text": [
            "20\n"
          ]
        }
      ]
    },
    {
      "cell_type": "markdown",
      "source": [
        "## **Special Operators**\n",
        "\n",
        "\n",
        "*   **Identity Operators**\n",
        "*   **Membership Operators**\n",
        "\n"
      ],
      "metadata": {
        "id": "Ff3P5-_CWyPX"
      }
    },
    {
      "cell_type": "markdown",
      "source": [
        "### **Identity Operators**\n",
        "\n",
        "**is** and **is not** are the identity operators.\n",
        "\n",
        "They are used to check if two objects (or variables) are located on the same memory location/address\n",
        "\n",
        "\n",
        "Operator | uses | Meaning\n",
        "- | - | -\n",
        "is | A is B=> | return True if A and B points to the same object   \n",
        "is not | A is not B | returns True if A and B do not points to the same object\n",
        "== | A == B | A is equal to B\n",
        "!= | A != B | A is not equal to B\n",
        "\n",
        "When using `is` then we are also comparing memory location\n",
        "When using `is not` then we are also comparing memory location\n",
        "\n",
        "== and != is only checking value of the variables [Used more offently or frequently]"
      ],
      "metadata": {
        "id": "UVoKzScFXBim"
      }
    },
    {
      "cell_type": "code",
      "source": [
        "a = 5\n",
        "b = 5\n",
        "print(a is b) #same object so True\n",
        "print(a is not b) #same object but is not so False\n",
        "\n",
        "l1 = [1, 2, 3]\n",
        "l2 = [1, 2, 3]\n",
        "print(l1 is l2) #not same address of the objects"
      ],
      "metadata": {
        "colab": {
          "base_uri": "https://localhost:8080/"
        },
        "id": "MXgFJCRkWhOV",
        "outputId": "c258d8c3-9940-4e8b-eed6-9c3d65e9436d"
      },
      "execution_count": null,
      "outputs": [
        {
          "output_type": "stream",
          "name": "stdout",
          "text": [
            "True\n",
            "False\n",
            "False\n"
          ]
        }
      ]
    },
    {
      "cell_type": "code",
      "source": [
        "s1 = \"AA\"\n",
        "s2 = \"AA\"\n",
        "print(s1 is s2)\n",
        "print(s1 is not s2)"
      ],
      "metadata": {
        "colab": {
          "base_uri": "https://localhost:8080/"
        },
        "id": "V2ZE8fM6X1YJ",
        "outputId": "b24afca0-b4cf-4d80-d3a6-9533e3326115"
      },
      "execution_count": null,
      "outputs": [
        {
          "output_type": "stream",
          "name": "stdout",
          "text": [
            "True\n",
            "False\n"
          ]
        }
      ]
    },
    {
      "cell_type": "markdown",
      "source": [
        "### **Membership Operators**\n",
        "\n",
        "**in** and **not in** are the membership operators.\n",
        "\n",
        "They are used to test whether a value or variable is found in sequence (string, list, tuple, set and dictionary)"
      ],
      "metadata": {
        "id": "bx72jX_3YrY7"
      }
    },
    {
      "cell_type": "code",
      "source": [
        "lst = [1, 2, 3, 4]\n",
        "print(1 in lst) #check 1 is present in the list or not\n",
        "print(7 in lst)"
      ],
      "metadata": {
        "colab": {
          "base_uri": "https://localhost:8080/"
        },
        "id": "ibxQP28yYPf8",
        "outputId": "c650eecb-cef7-4f4b-a00a-83ae6a49dce7"
      },
      "execution_count": null,
      "outputs": [
        {
          "output_type": "stream",
          "name": "stdout",
          "text": [
            "True\n",
            "False\n"
          ]
        }
      ]
    },
    {
      "cell_type": "code",
      "source": [
        "dic = {1: \"a\", 2: \"b\"} #we can only check key of the key-value pairs in dictionary\n",
        "print(1 in dic)\n",
        "print(\"a\" in dic)"
      ],
      "metadata": {
        "colab": {
          "base_uri": "https://localhost:8080/"
        },
        "id": "obc62YXyZqOf",
        "outputId": "fd6b8b1d-6845-458f-9163-53ec886c214d"
      },
      "execution_count": null,
      "outputs": [
        {
          "output_type": "stream",
          "name": "stdout",
          "text": [
            "True\n",
            "False\n"
          ]
        }
      ]
    },
    {
      "cell_type": "markdown",
      "source": [
        "# Fundamental data types"
      ],
      "metadata": {
        "id": "HhbS5rOyJla2"
      }
    },
    {
      "cell_type": "markdown",
      "source": [
        "## integers"
      ],
      "metadata": {
        "id": "sDxkSYIRQTGk"
      }
    },
    {
      "cell_type": "code",
      "source": [
        "a = 7"
      ],
      "metadata": {
        "id": "0UGwN43gQJyo"
      },
      "execution_count": null,
      "outputs": []
    },
    {
      "cell_type": "code",
      "source": [
        "type(a)"
      ],
      "metadata": {
        "colab": {
          "base_uri": "https://localhost:8080/"
        },
        "id": "rb2hmXqaLEVV",
        "outputId": "5aac8a05-2c87-43bd-b99d-606eff5c1c9f"
      },
      "execution_count": null,
      "outputs": [
        {
          "output_type": "execute_result",
          "data": {
            "text/plain": [
              "int"
            ]
          },
          "metadata": {},
          "execution_count": 59
        }
      ]
    },
    {
      "cell_type": "markdown",
      "source": [
        "## floats - numbers containing decimal numbers"
      ],
      "metadata": {
        "id": "moDdE9RKQvJh"
      }
    },
    {
      "cell_type": "code",
      "source": [
        "pi = 3.14"
      ],
      "metadata": {
        "id": "fjrPWQWaQtGR"
      },
      "execution_count": null,
      "outputs": []
    },
    {
      "cell_type": "code",
      "source": [
        "type(pi)"
      ],
      "metadata": {
        "colab": {
          "base_uri": "https://localhost:8080/"
        },
        "id": "QnRM62G1Q5qH",
        "outputId": "dcc7a27a-f6d7-4301-de24-a7e26c7a3636"
      },
      "execution_count": null,
      "outputs": [
        {
          "output_type": "execute_result",
          "data": {
            "text/plain": [
              "float"
            ]
          },
          "metadata": {},
          "execution_count": 62
        }
      ]
    },
    {
      "cell_type": "code",
      "source": [
        "x = 2.0\n",
        "type(x)"
      ],
      "metadata": {
        "colab": {
          "base_uri": "https://localhost:8080/"
        },
        "id": "8YkR2N34RFZA",
        "outputId": "59cd12de-b288-4a11-ba03-160108c0fd76"
      },
      "execution_count": null,
      "outputs": [
        {
          "output_type": "execute_result",
          "data": {
            "text/plain": [
              "float"
            ]
          },
          "metadata": {},
          "execution_count": 2
        }
      ]
    },
    {
      "cell_type": "code",
      "source": [
        "x = 2\n",
        "type(x)"
      ],
      "metadata": {
        "colab": {
          "base_uri": "https://localhost:8080/"
        },
        "id": "lEcy6lIrKFQz",
        "outputId": "dcacc3bb-6b66-4096-e34d-87de7b29b7a0"
      },
      "execution_count": null,
      "outputs": [
        {
          "output_type": "execute_result",
          "data": {
            "text/plain": [
              "int"
            ]
          },
          "metadata": {},
          "execution_count": 3
        }
      ]
    },
    {
      "cell_type": "markdown",
      "source": [
        "## Complex numbers"
      ],
      "metadata": {
        "id": "djQ1C4UqRV2w"
      }
    },
    {
      "cell_type": "code",
      "source": [
        "a = 2+3j\n",
        "a"
      ],
      "metadata": {
        "colab": {
          "base_uri": "https://localhost:8080/"
        },
        "id": "b8x5LehaRVou",
        "outputId": "3ca2da81-d62c-4957-be4d-b494107af91b"
      },
      "execution_count": null,
      "outputs": [
        {
          "output_type": "execute_result",
          "data": {
            "text/plain": [
              "(2+3j)"
            ]
          },
          "metadata": {},
          "execution_count": 67
        }
      ]
    },
    {
      "cell_type": "code",
      "source": [
        "type(a)"
      ],
      "metadata": {
        "colab": {
          "base_uri": "https://localhost:8080/"
        },
        "id": "zvWgfhAQRDN3",
        "outputId": "261a45b3-1f50-469f-8b58-238c35ffc27f"
      },
      "execution_count": null,
      "outputs": [
        {
          "output_type": "execute_result",
          "data": {
            "text/plain": [
              "complex"
            ]
          },
          "metadata": {},
          "execution_count": 68
        }
      ]
    },
    {
      "cell_type": "code",
      "source": [
        "a.real"
      ],
      "metadata": {
        "colab": {
          "base_uri": "https://localhost:8080/"
        },
        "id": "DcnVBA3JSJ3-",
        "outputId": "f618efe5-592c-41b7-ebdd-aff6128e1722"
      },
      "execution_count": null,
      "outputs": [
        {
          "output_type": "execute_result",
          "data": {
            "text/plain": [
              "2.0"
            ]
          },
          "metadata": {},
          "execution_count": 69
        }
      ]
    },
    {
      "cell_type": "code",
      "source": [
        "a.imag"
      ],
      "metadata": {
        "colab": {
          "base_uri": "https://localhost:8080/"
        },
        "id": "6lIOZ_97SQjG",
        "outputId": "1416d87a-ee4f-468b-bd00-f0eda5bbeab0"
      },
      "execution_count": null,
      "outputs": [
        {
          "output_type": "execute_result",
          "data": {
            "text/plain": [
              "3.0"
            ]
          },
          "metadata": {},
          "execution_count": 70
        }
      ]
    },
    {
      "cell_type": "markdown",
      "source": [
        "## Dynamic typing"
      ],
      "metadata": {
        "id": "Rr_cLPPjSa1g"
      }
    },
    {
      "cell_type": "code",
      "source": [
        "a = 22\n",
        "type(a)\n",
        "a = 22.2\n",
        "type(a)"
      ],
      "metadata": {
        "colab": {
          "base_uri": "https://localhost:8080/"
        },
        "id": "kZyFgLlHTXo5",
        "outputId": "aa265bbe-ba21-4555-b423-fae53ffcfd0f"
      },
      "execution_count": null,
      "outputs": [
        {
          "output_type": "execute_result",
          "data": {
            "text/plain": [
              "float"
            ]
          },
          "metadata": {},
          "execution_count": 73
        }
      ]
    },
    {
      "cell_type": "code",
      "source": [
        "a = 22\n",
        "print(type(a))\n",
        "a = 22.2\n",
        "print(type(a))\n",
        "a = \"Sunny\"\n",
        "print(type(a))\n",
        "a = 'Sunny'\n",
        "print(type(a))"
      ],
      "metadata": {
        "colab": {
          "base_uri": "https://localhost:8080/"
        },
        "id": "AGSSVBi2SUWO",
        "outputId": "091238e2-2adb-468d-c91b-3c3d20d8f252"
      },
      "execution_count": null,
      "outputs": [
        {
          "output_type": "stream",
          "name": "stdout",
          "text": [
            "<class 'int'>\n",
            "<class 'float'>\n",
            "<class 'str'>\n"
          ]
        }
      ]
    },
    {
      "cell_type": "code",
      "source": [
        "print(a)"
      ],
      "metadata": {
        "colab": {
          "base_uri": "https://localhost:8080/"
        },
        "id": "-VTqRrGzSyvG",
        "outputId": "a103cd82-a83f-4866-9554-d289825755de"
      },
      "execution_count": null,
      "outputs": [
        {
          "output_type": "stream",
          "name": "stdout",
          "text": [
            "Sunny\n"
          ]
        }
      ]
    },
    {
      "cell_type": "markdown",
      "source": [
        "## Strong typing"
      ],
      "metadata": {
        "id": "K_ptvOIJTp1c"
      }
    },
    {
      "cell_type": "code",
      "source": [
        "\"Day \" + 1"
      ],
      "metadata": {
        "colab": {
          "base_uri": "https://localhost:8080/",
          "height": 169
        },
        "id": "eXPeDDfeTpX8",
        "outputId": "3f4be31c-7140-4e33-cfd5-af2c77746b1e"
      },
      "execution_count": null,
      "outputs": [
        {
          "output_type": "error",
          "ename": "TypeError",
          "evalue": "ignored",
          "traceback": [
            "\u001b[0;31m---------------------------------------------------------------------------\u001b[0m",
            "\u001b[0;31mTypeError\u001b[0m                                 Traceback (most recent call last)",
            "\u001b[0;32m<ipython-input-77-f9dbf96c2523>\u001b[0m in \u001b[0;36m<module>\u001b[0;34m\u001b[0m\n\u001b[0;32m----> 1\u001b[0;31m \u001b[0;34m\"Day \"\u001b[0m \u001b[0;34m+\u001b[0m \u001b[0;36m1\u001b[0m\u001b[0;34m\u001b[0m\u001b[0;34m\u001b[0m\u001b[0m\n\u001b[0m",
            "\u001b[0;31mTypeError\u001b[0m: can only concatenate str (not \"int\") to str"
          ]
        }
      ]
    },
    {
      "cell_type": "code",
      "source": [
        "22.2 + 1"
      ],
      "metadata": {
        "colab": {
          "base_uri": "https://localhost:8080/"
        },
        "id": "WwpsAL-aUmtV",
        "outputId": "86133e68-2534-4768-ffef-6bb3017bbdef"
      },
      "execution_count": null,
      "outputs": [
        {
          "output_type": "execute_result",
          "data": {
            "text/plain": [
              "23.2"
            ]
          },
          "metadata": {},
          "execution_count": 86
        }
      ]
    },
    {
      "cell_type": "code",
      "source": [
        "\n",
        "\"Day \" + \"1\""
      ],
      "metadata": {
        "colab": {
          "base_uri": "https://localhost:8080/",
          "height": 36
        },
        "id": "twRVQPK2TAe-",
        "outputId": "46306f9c-1e8b-4742-f6b0-f2a3be351866"
      },
      "execution_count": null,
      "outputs": [
        {
          "output_type": "execute_result",
          "data": {
            "text/plain": [
              "'Day 1'"
            ],
            "application/vnd.google.colaboratory.intrinsic+json": {
              "type": "string"
            }
          },
          "metadata": {},
          "execution_count": 78
        }
      ]
    },
    {
      "cell_type": "code",
      "source": [
        "22 + 22"
      ],
      "metadata": {
        "colab": {
          "base_uri": "https://localhost:8080/"
        },
        "id": "mFfI3DenUTK9",
        "outputId": "ceed1991-a206-498a-fb92-9d3f9bc4e00f"
      },
      "execution_count": null,
      "outputs": [
        {
          "output_type": "execute_result",
          "data": {
            "text/plain": [
              "44"
            ]
          },
          "metadata": {},
          "execution_count": 81
        }
      ]
    },
    {
      "cell_type": "code",
      "source": [
        "\"22\" + \"22\""
      ],
      "metadata": {
        "colab": {
          "base_uri": "https://localhost:8080/",
          "height": 36
        },
        "id": "IdkzDzGwUVqU",
        "outputId": "9e5f127a-9783-406a-f2dc-6b5bea3564a0"
      },
      "execution_count": null,
      "outputs": [
        {
          "output_type": "execute_result",
          "data": {
            "text/plain": [
              "'2222'"
            ],
            "application/vnd.google.colaboratory.intrinsic+json": {
              "type": "string"
            }
          },
          "metadata": {},
          "execution_count": 82
        }
      ]
    },
    {
      "cell_type": "code",
      "source": [
        "\"22\" + 22"
      ],
      "metadata": {
        "colab": {
          "base_uri": "https://localhost:8080/",
          "height": 169
        },
        "id": "-mvi-tKRT-eM",
        "outputId": "37cd2ca9-4153-4bb4-aafc-335fce3a6aa8"
      },
      "execution_count": null,
      "outputs": [
        {
          "output_type": "error",
          "ename": "TypeError",
          "evalue": "ignored",
          "traceback": [
            "\u001b[0;31m---------------------------------------------------------------------------\u001b[0m",
            "\u001b[0;31mTypeError\u001b[0m                                 Traceback (most recent call last)",
            "\u001b[0;32m<ipython-input-83-2e2b19d89d15>\u001b[0m in \u001b[0;36m<module>\u001b[0;34m\u001b[0m\n\u001b[0;32m----> 1\u001b[0;31m \u001b[0;34m\"22\"\u001b[0m \u001b[0;34m+\u001b[0m \u001b[0;36m22\u001b[0m\u001b[0;34m\u001b[0m\u001b[0;34m\u001b[0m\u001b[0m\n\u001b[0m",
            "\u001b[0;31mTypeError\u001b[0m: can only concatenate str (not \"int\") to str"
          ]
        }
      ]
    },
    {
      "cell_type": "code",
      "source": [
        "'22' + \"22\""
      ],
      "metadata": {
        "colab": {
          "base_uri": "https://localhost:8080/",
          "height": 36
        },
        "id": "rTOAn0yJUf_h",
        "outputId": "594cf217-0e88-4758-8dfc-4180f1b7d14a"
      },
      "execution_count": null,
      "outputs": [
        {
          "output_type": "execute_result",
          "data": {
            "text/plain": [
              "'2222'"
            ],
            "application/vnd.google.colaboratory.intrinsic+json": {
              "type": "string"
            }
          },
          "metadata": {},
          "execution_count": 85
        }
      ]
    },
    {
      "cell_type": "markdown",
      "source": [
        "# **Control Flow**\n",
        "\n",
        "The **if**.....**elif**.....**else** statement is used in Python for decision making.\n",
        "\n",
        "**0, None and False** is considered as False\n",
        "\n",
        "Except these three all are True\n",
        "\n",
        "Eg: -1, 11, \"AA\", etc"
      ],
      "metadata": {
        "id": "ZCryJoVpN2gX"
      }
    },
    {
      "cell_type": "code",
      "source": [
        "num = 10\n",
        "if num == 10:\n",
        "  print(\"Hi\")\n",
        "else:\n",
        "  print(\"Hoo\")"
      ],
      "metadata": {
        "id": "OyhJnQ-WaBZr",
        "colab": {
          "base_uri": "https://localhost:8080/"
        },
        "outputId": "be8061fc-f9c7-4ebc-8c39-6f3b51f14c64"
      },
      "execution_count": null,
      "outputs": [
        {
          "output_type": "stream",
          "name": "stdout",
          "text": [
            "Hi\n"
          ]
        }
      ]
    },
    {
      "cell_type": "code",
      "source": [
        "# None used\n",
        "num = 10\n",
        "if None:\n",
        "  print(\"Hi\")\n",
        "else:\n",
        "  print(\"Hoo\")"
      ],
      "metadata": {
        "colab": {
          "base_uri": "https://localhost:8080/"
        },
        "id": "1RkYNRkmQiE-",
        "outputId": "2779f4b1-fddd-4141-d40c-1a07fcc7f39a"
      },
      "execution_count": null,
      "outputs": [
        {
          "output_type": "stream",
          "name": "stdout",
          "text": [
            "Hoo\n"
          ]
        }
      ]
    },
    {
      "cell_type": "code",
      "source": [
        "# 0 used\n",
        "num = 10\n",
        "if num - 10:\n",
        "  print(\"Hi\")\n",
        "else:\n",
        "  print(\"Hoo\")"
      ],
      "metadata": {
        "colab": {
          "base_uri": "https://localhost:8080/"
        },
        "id": "UhFsKnBvQm_Y",
        "outputId": "e3b266b7-7c4a-43d2-a10e-c785fc5fec82"
      },
      "execution_count": null,
      "outputs": [
        {
          "output_type": "stream",
          "name": "stdout",
          "text": [
            "Hoo\n"
          ]
        }
      ]
    },
    {
      "cell_type": "code",
      "source": [
        "# False used\n",
        "num = 10\n",
        "if num != 10:\n",
        "  print(\"Hi\")\n",
        "else:\n",
        "  print(\"Hoo\")"
      ],
      "metadata": {
        "colab": {
          "base_uri": "https://localhost:8080/"
        },
        "id": "M74m94zpQrQd",
        "outputId": "2abc2375-f7ef-4ff3-e22f-9c34b87e84e2"
      },
      "execution_count": null,
      "outputs": [
        {
          "output_type": "stream",
          "name": "stdout",
          "text": [
            "Hoo\n"
          ]
        }
      ]
    },
    {
      "cell_type": "markdown",
      "source": [
        "## if-elif-else Example"
      ],
      "metadata": {
        "id": "NyskEKPbRBoG"
      }
    },
    {
      "cell_type": "code",
      "source": [
        "num = 10\n",
        "if num >= 10:\n",
        "  print(\"Hi\")\n",
        "elif num == 0:\n",
        "  print(\"Hey\")\n",
        "else:\n",
        "  print(\"Hoo\")"
      ],
      "metadata": {
        "colab": {
          "base_uri": "https://localhost:8080/"
        },
        "id": "P_9HObBEQ415",
        "outputId": "22a1df75-fa64-4d4e-de96-6358efdb1ff7"
      },
      "execution_count": null,
      "outputs": [
        {
          "output_type": "stream",
          "name": "stdout",
          "text": [
            "Hi\n"
          ]
        }
      ]
    },
    {
      "cell_type": "code",
      "source": [
        "attendance = 70\n",
        "assignment_submitted = 40\n",
        "sports_player = True\n",
        "\n",
        "print(f\"attendence criteria met? : {attendance >= 75}\")\n",
        "print(f\"assignment criteria met? : {assignment_submitted >= 70}\")\n",
        "print(f\"sports criteria met? : {sports_player}\")\n",
        "\n",
        "if attendance >= 75 and assignment_submitted >= 70:\n",
        "    if sports_player:\n",
        "        print(\"The student is eligible to appear in final exam\")\n",
        "    else:\n",
        "        print(\"The student is eligible to appear in final exam\")\n",
        "else:\n",
        "    print(\"The student is not eligible\")"
      ],
      "metadata": {
        "colab": {
          "base_uri": "https://localhost:8080/"
        },
        "id": "V8TxkKT5GWeY",
        "outputId": "4e00f54e-de14-4d07-87e5-9338e82b0b82"
      },
      "execution_count": null,
      "outputs": [
        {
          "output_type": "stream",
          "name": "stdout",
          "text": [
            "attendence criteria met? : False\n",
            "assignment criteria met? : False\n",
            "sports criteria met? : True\n",
            "The student is not eligible\n"
          ]
        }
      ]
    },
    {
      "cell_type": "markdown",
      "source": [
        "### Single line if else"
      ],
      "metadata": {
        "id": "3OmCgwZGFiXN"
      }
    },
    {
      "cell_type": "code",
      "source": [
        "# Recommended approach\n",
        "# Its more readable and clean\n",
        "\n",
        "val = float(input(\"Enter a number\"))\n",
        "\n",
        "if val > 99:\n",
        "  print(\"YES\")\n",
        "else:\n",
        "  print(\"NO\")"
      ],
      "metadata": {
        "colab": {
          "base_uri": "https://localhost:8080/"
        },
        "id": "kOH2_jhBPw9K",
        "outputId": "b2775a29-12ee-457e-976f-f6c31d5586a0"
      },
      "execution_count": null,
      "outputs": [
        {
          "output_type": "stream",
          "name": "stdout",
          "text": [
            "Enter a number999\n",
            "YES\n"
          ]
        }
      ]
    },
    {
      "cell_type": "code",
      "source": [
        "# only good for competitive programming\n",
        "val = float(input(\"Enter a number: \"))\n",
        "\n",
        "print(\"YES\" if val > 99 else \"NO\")"
      ],
      "metadata": {
        "colab": {
          "base_uri": "https://localhost:8080/"
        },
        "id": "Yp3gjIkaQk0B",
        "outputId": "95d5fcff-b5e3-4165-dada-0ce973a49cd8"
      },
      "execution_count": null,
      "outputs": [
        {
          "output_type": "stream",
          "name": "stdout",
          "text": [
            "Enter a number: 9\n",
            "NO\n"
          ]
        }
      ]
    },
    {
      "cell_type": "markdown",
      "source": [
        "## **while loop with else**\n",
        "\n",
        "Same as that of *for loop*, we can have an optional else block with while loop as well.\n",
        "\n",
        "The else part is executed if the condition in the while loop evaluates to False. The while loop can be terminated with a **break** statement.\n",
        "\n",
        "In such case, the else part is ignored. Hence, a while loop's else part runs if no break occurs and the condition is False."
      ],
      "metadata": {
        "id": "Fpy_gD02STT1"
      }
    },
    {
      "cell_type": "code",
      "source": [
        "num = [1,2,3]\n",
        "index = 0\n",
        "\n",
        "while index < len(num):\n",
        "  print(num[index])\n",
        "  index +=1 #pre-increment or post-increment is not there in Python\n",
        "else:\n",
        "  print(\"No item left in the list\")"
      ],
      "metadata": {
        "colab": {
          "base_uri": "https://localhost:8080/"
        },
        "id": "6rTy4_fGRUWb",
        "outputId": "9c1a5ff5-6e8b-4e6c-ce8c-b75f6c9c4efb"
      },
      "execution_count": null,
      "outputs": [
        {
          "output_type": "stream",
          "name": "stdout",
          "text": [
            "1\n",
            "2\n",
            "3\n",
            "No item left in the list\n"
          ]
        }
      ]
    },
    {
      "cell_type": "markdown",
      "source": [
        "## **Python for Loop**\n",
        "\n",
        "The for loop in Python is used to iterate over a sequence (list, tuple, string) or other iterable objects.\n",
        "\n",
        "Iterating over a sequence is called **traversal**."
      ],
      "metadata": {
        "id": "576BDcftVo64"
      }
    },
    {
      "cell_type": "markdown",
      "source": [
        "### **Syntax**\n",
        "\n",
        "```\n",
        "for element in sequence:\n",
        "    body of for\n",
        "```\n",
        "\n",
        "Here, element is the variable that makes the value of the item inside the sequence on each iteration.\n",
        "\n",
        "Loop continues until we reach the last item in the sequence.\n",
        "\n",
        "\n"
      ],
      "metadata": {
        "id": "qht5gonHxqkL"
      }
    },
    {
      "cell_type": "code",
      "source": [
        "lst = [10, 20, 30, 40, 50]\n",
        "\n",
        "product = 1\n",
        "\n",
        "for item in lst:\n",
        "  product *= item\n",
        "\n",
        "print(f\"Product is: {product}\")"
      ],
      "metadata": {
        "id": "xnc4a7rzTyp6",
        "colab": {
          "base_uri": "https://localhost:8080/"
        },
        "outputId": "02fa2ade-376e-4555-a5cd-89c853b6f6f5"
      },
      "execution_count": null,
      "outputs": [
        {
          "output_type": "stream",
          "name": "stdout",
          "text": [
            "Product is: 12000000\n"
          ]
        }
      ]
    },
    {
      "cell_type": "markdown",
      "source": [
        "## **range(function)**\n",
        "\n",
        "We can generate a sequence of numbers using range() function.\n",
        "\n",
        "eg. range(10) will generate numbers from 0 to 9 (10 numbers)\n",
        "\n",
        "range() function has the **start, stop,** and **step size** as **range(start, stop, step size)**. By default step size is 1 if not provided.\n",
        "\n",
        "This function does not store all the values in memory, it would be inefficient. So it remembers the start, stop, step size and generates the next number on the go."
      ],
      "metadata": {
        "id": "DmEdbDjRzh7u"
      }
    },
    {
      "cell_type": "code",
      "source": [
        "for i in range(1, 20, 2): #exactly same as for(i=1; i<20; i+=2) in C language\n",
        "  print(i)"
      ],
      "metadata": {
        "colab": {
          "base_uri": "https://localhost:8080/"
        },
        "id": "e_deFhOdzfOV",
        "outputId": "ddcda91f-9087-4686-ceb2-b6d365ffa536"
      },
      "execution_count": null,
      "outputs": [
        {
          "output_type": "stream",
          "name": "stdout",
          "text": [
            "1\n",
            "3\n",
            "5\n",
            "7\n",
            "9\n",
            "11\n",
            "13\n",
            "15\n",
            "17\n",
            "19\n"
          ]
        }
      ]
    },
    {
      "cell_type": "code",
      "source": [
        "lst = [\"Samir\", \"Samar\", \"Safar\", \"Sahil\"]\n",
        "\n",
        "for item in range(len(lst)):\n",
        "  print(lst[item])\n",
        "#both give same output 1st using range() func and 2nd using simple way\n",
        "for item in lst:\n",
        "  print(item)\n"
      ],
      "metadata": {
        "colab": {
          "base_uri": "https://localhost:8080/"
        },
        "id": "XebXxrwkGy0J",
        "outputId": "d2df1490-ca7e-4d19-ad06-18d8006f83c7"
      },
      "execution_count": null,
      "outputs": [
        {
          "output_type": "stream",
          "name": "stdout",
          "text": [
            "Samir\n",
            "Samar\n",
            "Safar\n",
            "Sahil\n",
            "Samir\n",
            "Samar\n",
            "Safar\n",
            "Sahil\n"
          ]
        }
      ]
    },
    {
      "cell_type": "markdown",
      "source": [
        "## **for loop with else**\n",
        "\n",
        "A for loop can have an optional else block as well. The else part is executed if the items in the sequence used in for loop exhausts.\n",
        "\n",
        "break statement can be used to stop a for loop.\n",
        "\n",
        "Hence, a for loop's else part runs if no break occurs."
      ],
      "metadata": {
        "id": "WZqA5G4IIXuX"
      }
    },
    {
      "cell_type": "code",
      "source": [
        "number = [1, 2, 3]\n",
        "\n",
        "for item in number:\n",
        "  print(item)\n",
        "else:\n",
        "  print(\"No item left in the list\")\n"
      ],
      "metadata": {
        "colab": {
          "base_uri": "https://localhost:8080/"
        },
        "id": "MtAjVNTfICt4",
        "outputId": "8316d1a6-ab3f-4de2-b003-299aa33042a8"
      },
      "execution_count": null,
      "outputs": [
        {
          "output_type": "stream",
          "name": "stdout",
          "text": [
            "1\n",
            "2\n",
            "3\n",
            "No item left in the list\n"
          ]
        }
      ]
    },
    {
      "cell_type": "markdown",
      "source": [
        "## **Python *break* and *continue* Statements**\n",
        "\n"
      ],
      "metadata": {
        "id": "LzphQr80J9Vs"
      }
    },
    {
      "cell_type": "code",
      "source": [
        "number = [1, 2, 3, 4]\n",
        "\n",
        "for num in number:\n",
        "  if num == 4:\n",
        "    break\n",
        "  print(num)\n",
        "else:\n",
        "    print(\"in the else-block\")\n",
        "print(\"Outside of for loop\")"
      ],
      "metadata": {
        "colab": {
          "base_uri": "https://localhost:8080/"
        },
        "id": "6R0-71ybJa-B",
        "outputId": "8c5f50c5-cdde-4e1a-caf0-0f485f2b7bb6"
      },
      "execution_count": null,
      "outputs": [
        {
          "output_type": "stream",
          "name": "stdout",
          "text": [
            "1\n",
            "2\n",
            "3\n",
            "Outside of for loop\n"
          ]
        }
      ]
    },
    {
      "cell_type": "code",
      "source": [
        "number = [1, 2, 3, 4, 5]\n",
        "\n",
        "for num in number:\n",
        "  if num % 2 == 0:\n",
        "    continue\n",
        "  print(num)\n",
        "else:\n",
        "    print(\"in the else-block\")"
      ],
      "metadata": {
        "id": "tHU9argNLcGg",
        "colab": {
          "base_uri": "https://localhost:8080/"
        },
        "outputId": "a530c5be-2795-42bd-f23a-bafeb04073b6"
      },
      "execution_count": null,
      "outputs": [
        {
          "output_type": "stream",
          "name": "stdout",
          "text": [
            "1\n",
            "3\n",
            "5\n",
            "in the else-block\n"
          ]
        }
      ]
    },
    {
      "cell_type": "markdown",
      "source": [
        "# Memory block"
      ],
      "metadata": {
        "id": "SDkFgwh1Ln0W"
      }
    },
    {
      "cell_type": "code",
      "source": [
        "a = 22\n",
        "b = 34\n",
        "c = 22"
      ],
      "metadata": {
        "id": "zovkAE5uUX7C"
      },
      "execution_count": null,
      "outputs": []
    },
    {
      "cell_type": "code",
      "source": [
        "id(a) # memory address"
      ],
      "metadata": {
        "colab": {
          "base_uri": "https://localhost:8080/"
        },
        "id": "iB_Yf-XwfskJ",
        "outputId": "54e8265b-1f90-41a0-a53a-4e5284312bb4"
      },
      "execution_count": null,
      "outputs": [
        {
          "output_type": "execute_result",
          "data": {
            "text/plain": [
              "9793760"
            ]
          },
          "metadata": {},
          "execution_count": 2
        }
      ]
    },
    {
      "cell_type": "code",
      "source": [
        "id(b)"
      ],
      "metadata": {
        "colab": {
          "base_uri": "https://localhost:8080/"
        },
        "id": "2QhbJnLbfvWp",
        "outputId": "bb1866b0-ba41-4655-fc4a-de6c4350d3d0"
      },
      "execution_count": null,
      "outputs": [
        {
          "output_type": "execute_result",
          "data": {
            "text/plain": [
              "9794144"
            ]
          },
          "metadata": {},
          "execution_count": 3
        }
      ]
    },
    {
      "cell_type": "code",
      "source": [
        "id(c)"
      ],
      "metadata": {
        "colab": {
          "base_uri": "https://localhost:8080/"
        },
        "id": "mLxiOUf_fyAa",
        "outputId": "bd4b317d-81c1-43de-ee7b-26f0b80eee66"
      },
      "execution_count": null,
      "outputs": [
        {
          "output_type": "execute_result",
          "data": {
            "text/plain": [
              "9793760"
            ]
          },
          "metadata": {},
          "execution_count": 4
        }
      ]
    },
    {
      "cell_type": "code",
      "source": [
        "c = 22 + b\n"
      ],
      "metadata": {
        "id": "V_ebhqVQf02g"
      },
      "execution_count": null,
      "outputs": []
    },
    {
      "cell_type": "code",
      "source": [
        "id(c) #address got change"
      ],
      "metadata": {
        "colab": {
          "base_uri": "https://localhost:8080/"
        },
        "id": "FRDxDQ7GgIfR",
        "outputId": "3c824de9-b7c0-483b-8d44-b8224f1c5c6e"
      },
      "execution_count": null,
      "outputs": [
        {
          "output_type": "execute_result",
          "data": {
            "text/plain": [
              "9794848"
            ]
          },
          "metadata": {},
          "execution_count": 6
        }
      ]
    },
    {
      "cell_type": "code",
      "source": [
        "a = 22\n",
        "id(a)"
      ],
      "metadata": {
        "colab": {
          "base_uri": "https://localhost:8080/"
        },
        "id": "fNd2dcHmgJtQ",
        "outputId": "3a4ed82a-5b88-408f-938f-872d99e18b85"
      },
      "execution_count": null,
      "outputs": [
        {
          "output_type": "execute_result",
          "data": {
            "text/plain": [
              "9793760"
            ]
          },
          "metadata": {},
          "execution_count": 7
        }
      ]
    },
    {
      "cell_type": "code",
      "source": [
        "a = 99\n",
        "id(a)"
      ],
      "metadata": {
        "colab": {
          "base_uri": "https://localhost:8080/"
        },
        "id": "FWStSij2gSep",
        "outputId": "dd2606bd-52eb-4795-b43e-464b52b8ea41"
      },
      "execution_count": null,
      "outputs": [
        {
          "output_type": "execute_result",
          "data": {
            "text/plain": [
              "9796224"
            ]
          },
          "metadata": {},
          "execution_count": 8
        }
      ]
    },
    {
      "cell_type": "markdown",
      "source": [
        "Memory is assigned to the value of variable passed not the variable name"
      ],
      "metadata": {
        "id": "2JUt0VhygXaE"
      }
    },
    {
      "cell_type": "code",
      "source": [
        "a = 22\n",
        "b = 34\n",
        "c = 22\n",
        "\n",
        "print(id(a), id(b), id(c))"
      ],
      "metadata": {
        "colab": {
          "base_uri": "https://localhost:8080/"
        },
        "id": "M8M8grQHgU_R",
        "outputId": "0ea1eae6-e09d-440b-d233-61d7398c7aa2"
      },
      "execution_count": null,
      "outputs": [
        {
          "output_type": "stream",
          "name": "stdout",
          "text": [
            "11123264 11123648 11123264\n"
          ]
        }
      ]
    },
    {
      "cell_type": "code",
      "source": [
        "a = \"Sunny\"\n",
        "b = 34\n",
        "c = \"Sunny\"\n",
        "\n",
        "print(id(a), id(b), id(c))"
      ],
      "metadata": {
        "colab": {
          "base_uri": "https://localhost:8080/"
        },
        "id": "h2Oo_lIGgiZZ",
        "outputId": "78e7f2d9-5eca-40ed-9f27-79d4ec4f37ea"
      },
      "execution_count": null,
      "outputs": [
        {
          "output_type": "stream",
          "name": "stdout",
          "text": [
            "140359210811888 11123648 140359210811888\n"
          ]
        }
      ]
    },
    {
      "cell_type": "code",
      "source": [
        "a = \"S\"\n",
        "b = 34\n",
        "c = \"S\"\n",
        "\n",
        "print(id(a), id(b), id(c))"
      ],
      "metadata": {
        "colab": {
          "base_uri": "https://localhost:8080/"
        },
        "id": "dudmdbuAg9kh",
        "outputId": "fe126c00-7a66-46e6-b8c6-7d1c1caa423a"
      },
      "execution_count": null,
      "outputs": [
        {
          "output_type": "stream",
          "name": "stdout",
          "text": [
            "140359751722032 11123648 140359751722032\n"
          ]
        }
      ]
    },
    {
      "cell_type": "code",
      "source": [
        "a = 22\n",
        "b = 34\n",
        "c = 22.0\n",
        "\n",
        "print(id(a), id(b), id(c))"
      ],
      "metadata": {
        "colab": {
          "base_uri": "https://localhost:8080/"
        },
        "id": "JQKAen5UhROg",
        "outputId": "edefedde-ae27-4e99-ec1b-f66d2ffc84db"
      },
      "execution_count": null,
      "outputs": [
        {
          "output_type": "stream",
          "name": "stdout",
          "text": [
            "11123264 11123648 140359209645776\n"
          ]
        }
      ]
    },
    {
      "cell_type": "markdown",
      "source": [
        "# iNeuron Assignment\n",
        "\n",
        "https://colab.research.google.com/drive/1MeY4jyYte81PTIcfy3MRg6pEQ8dEjzjS"
      ],
      "metadata": {
        "id": "0cGj6BElMbvZ"
      }
    },
    {
      "cell_type": "code",
      "source": [],
      "metadata": {
        "id": "A_ufBbdvMmqI"
      },
      "execution_count": null,
      "outputs": []
    }
  ]
}